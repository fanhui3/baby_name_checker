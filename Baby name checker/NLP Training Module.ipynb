{
 "cells": [
  {
   "cell_type": "code",
   "execution_count": 1,
   "id": "fa5512af",
   "metadata": {},
   "outputs": [],
   "source": [
    "import numpy as np\n",
    "import pandas as pd\n",
    "import re\n",
    "import sklearn as sk\n",
    "import tensorflow as tf\n",
    "from tensorflow import keras\n",
    "from tensorflow.keras.preprocessing.text import Tokenizer\n",
    "from tensorflow.keras.preprocessing.sequence import pad_sequences\n",
    "import joblib\n",
    "from tensorflow.keras.models import load_model"
   ]
  },
  {
   "cell_type": "code",
   "execution_count": null,
   "id": "8696c40a",
   "metadata": {},
   "outputs": [],
   "source": []
  },
  {
   "cell_type": "markdown",
   "id": "45ae658f",
   "metadata": {},
   "source": [
    "# Custom Function"
   ]
  },
  {
   "cell_type": "code",
   "execution_count": 39,
   "id": "5ff6ec46",
   "metadata": {},
   "outputs": [],
   "source": [
    "# this function matches all alphabets and filter out non alphabetical characters in each cell\n",
    "regex = re.compile(r\"[a-zA-Z]+\")\n",
    "\n",
    "def get_name(value):\n",
    "    texts = (re.findall(regex, value))\n",
    "    return ''.join(texts)"
   ]
  },
  {
   "cell_type": "code",
   "execution_count": 3,
   "id": "c826837b",
   "metadata": {},
   "outputs": [
    {
     "data": {
      "text/plain": [
       "'Whatwhat'"
      ]
     },
     "execution_count": 3,
     "metadata": {},
     "output_type": "execute_result"
    }
   ],
   "source": [
    "test = \"What&&what\"\n",
    "get_name(test)"
   ]
  },
  {
   "cell_type": "code",
   "execution_count": 4,
   "id": "7d9925e7",
   "metadata": {},
   "outputs": [],
   "source": [
    "#this function reverse the name of the cell. This is to test if feeding the name into the model backwards \n",
    "#would improve the performance\n",
    "def reverse_name(value):\n",
    "    return value[::-1]\n",
    "    "
   ]
  },
  {
   "cell_type": "code",
   "execution_count": 40,
   "id": "02740f22",
   "metadata": {},
   "outputs": [],
   "source": [
    "#transform label to 1 (F), and 0 (M)\n",
    "def transform_gender(value):\n",
    "    if value == \"F\":\n",
    "        return 1\n",
    "    else:\n",
    "        return 0"
   ]
  },
  {
   "cell_type": "markdown",
   "id": "475bd0c3",
   "metadata": {},
   "source": [
    "# import dataset"
   ]
  },
  {
   "cell_type": "code",
   "execution_count": 41,
   "id": "a95313a8",
   "metadata": {},
   "outputs": [],
   "source": [
    "df = pd.read_csv(\"./name_gender.csv\")"
   ]
  },
  {
   "cell_type": "markdown",
   "id": "558e9e9e",
   "metadata": {},
   "source": [
    "# 1) Explore data"
   ]
  },
  {
   "cell_type": "markdown",
   "id": "00c8269d",
   "metadata": {},
   "source": [
    "### missing values (None) "
   ]
  },
  {
   "cell_type": "code",
   "execution_count": 43,
   "id": "e171deec",
   "metadata": {},
   "outputs": [
    {
     "data": {
      "text/plain": [
       "name      0\n",
       "gender    0\n",
       "dtype: int64"
      ]
     },
     "execution_count": 43,
     "metadata": {},
     "output_type": "execute_result"
    }
   ],
   "source": [
    "df.isna().sum()"
   ]
  },
  {
   "cell_type": "markdown",
   "id": "94ae2c92",
   "metadata": {},
   "source": [
    "### level \n",
    "* (Category is good, 63.4% females)\n",
    "* Names seems to be unique"
   ]
  },
  {
   "cell_type": "code",
   "execution_count": 44,
   "id": "988020ac",
   "metadata": {},
   "outputs": [
    {
     "name": "stdout",
     "output_type": "stream",
     "text": [
      "Kamion            0.000011\n",
      "Jaytin            0.000011\n",
      "Romalis           0.000011\n",
      "Mustafe           0.000011\n",
      "Adacia            0.000011\n",
      "                    ...   \n",
      "Taejah            0.000011\n",
      "Merrikay          0.000011\n",
      "Airianna          0.000011\n",
      "Emilyelizabeth    0.000011\n",
      "Arles             0.000011\n",
      "Name: name, Length: 95025, dtype: float64\n",
      "F    0.634612\n",
      "M    0.365388\n",
      "Name: gender, dtype: float64\n"
     ]
    }
   ],
   "source": [
    "for i in df.columns:\n",
    "    print(df[i].value_counts(normalize=True))"
   ]
  },
  {
   "cell_type": "markdown",
   "id": "992d6b13",
   "metadata": {},
   "source": [
    "# 2) data cleaning\n",
    "\n",
    "### Name\n",
    "* strip the white space\n",
    "* lower case\n",
    "* remove special character\n",
    "\n",
    "### Gender\n",
    "* label F as 1 and M as 0"
   ]
  },
  {
   "cell_type": "code",
   "execution_count": 45,
   "id": "bb50b9f0",
   "metadata": {},
   "outputs": [],
   "source": [
    "df[\"name\"] = df[\"name\"].str.strip()\n",
    "df[\"name\"] = df[\"name\"].str.lower()"
   ]
  },
  {
   "cell_type": "code",
   "execution_count": 46,
   "id": "79e9db0b",
   "metadata": {},
   "outputs": [],
   "source": [
    "df[\"name\"] = df[\"name\"].apply(get_name)"
   ]
  },
  {
   "cell_type": "code",
   "execution_count": 47,
   "id": "98da5360",
   "metadata": {},
   "outputs": [],
   "source": [
    "# #try reversing the name and see if the model performs better (it does not. thus commented out to skip this step)\n",
    "# df[\"name\"] = df[\"name\"].apply(reverse_name)"
   ]
  },
  {
   "cell_type": "code",
   "execution_count": 13,
   "id": "5d426508",
   "metadata": {},
   "outputs": [],
   "source": [
    "df[\"gender\"] = df[\"gender\"].apply(transform_gender)"
   ]
  },
  {
   "cell_type": "markdown",
   "id": "3e9e68aa",
   "metadata": {},
   "source": [
    "# 3) data preprocessing for NLP "
   ]
  },
  {
   "cell_type": "markdown",
   "id": "ad748b93",
   "metadata": {},
   "source": [
    "## shuffle data (current names are in alphabetical order)"
   ]
  },
  {
   "cell_type": "code",
   "execution_count": 48,
   "id": "868576d7",
   "metadata": {},
   "outputs": [],
   "source": [
    "df = df.sample(frac=1,random_state=1211)"
   ]
  },
  {
   "cell_type": "markdown",
   "id": "8c0b1a9e",
   "metadata": {},
   "source": [
    "## split name by spaces"
   ]
  },
  {
   "cell_type": "code",
   "execution_count": 49,
   "id": "bc0670f5",
   "metadata": {},
   "outputs": [],
   "source": [
    "name = list(df[\"name\"])"
   ]
  },
  {
   "cell_type": "code",
   "execution_count": 50,
   "id": "5a0d6d97",
   "metadata": {},
   "outputs": [],
   "source": [
    "for i in range(0,len(name)):\n",
    "    name[i] = \" \".join(name[i])"
   ]
  },
  {
   "cell_type": "markdown",
   "id": "671b80dd",
   "metadata": {},
   "source": [
    "## tokenize the letters"
   ]
  },
  {
   "cell_type": "code",
   "execution_count": 51,
   "id": "ef62f8c4",
   "metadata": {},
   "outputs": [],
   "source": [
    "# parameters\n",
    "tokens = 27\n",
    "padded_len = 20"
   ]
  },
  {
   "cell_type": "code",
   "execution_count": 52,
   "id": "106a5af7",
   "metadata": {},
   "outputs": [],
   "source": [
    "#create fit token \n",
    "tokenizer = Tokenizer(num_words=tokens, oov_token=\"oov\")\n",
    "tokenizer.fit_on_texts(name)"
   ]
  },
  {
   "cell_type": "code",
   "execution_count": 53,
   "id": "252682da",
   "metadata": {},
   "outputs": [],
   "source": [
    "#check the word index\n",
    "word_index = tokenizer.word_index"
   ]
  },
  {
   "cell_type": "code",
   "execution_count": 54,
   "id": "b146b9cc",
   "metadata": {},
   "outputs": [],
   "source": [
    "#replace text as token index \n",
    "sequences = tokenizer.texts_to_sequences(name)"
   ]
  },
  {
   "cell_type": "code",
   "execution_count": 55,
   "id": "3255fc87",
   "metadata": {},
   "outputs": [],
   "source": [
    "padd_sequences = pad_sequences(sequences,maxlen= padded_len)"
   ]
  },
  {
   "cell_type": "code",
   "execution_count": 56,
   "id": "949d3093",
   "metadata": {},
   "outputs": [
    {
     "data": {
      "text/plain": [
       "array([[ 0,  0,  0, ...,  5, 16,  3],\n",
       "       [ 0,  0,  0, ...,  5, 17,  8],\n",
       "       [ 0,  0,  0, ...,  5,  4,  2],\n",
       "       ...,\n",
       "       [ 0,  0,  0, ...,  4,  4,  2],\n",
       "       [ 0,  0,  0, ...,  7, 10,  4],\n",
       "       [ 0,  0,  0, ...,  5,  4,  3]])"
      ]
     },
     "execution_count": 56,
     "metadata": {},
     "output_type": "execute_result"
    }
   ],
   "source": [
    "padd_sequences"
   ]
  },
  {
   "cell_type": "code",
   "execution_count": 57,
   "id": "c57c1937",
   "metadata": {},
   "outputs": [
    {
     "data": {
      "text/plain": [
       "(95025, 20)"
      ]
     },
     "execution_count": 57,
     "metadata": {},
     "output_type": "execute_result"
    }
   ],
   "source": [
    "padd_sequences.shape"
   ]
  },
  {
   "cell_type": "code",
   "execution_count": 58,
   "id": "b821451a",
   "metadata": {},
   "outputs": [
    {
     "data": {
      "text/plain": [
       "12474        brice\n",
       "23919    dimitrius\n",
       "46174      kaylina\n",
       "63053        moran\n",
       "52041       larken\n",
       "           ...    \n",
       "28166      eshanti\n",
       "65913      niclole\n",
       "44174    kailianna\n",
       "36569     jaedalyn\n",
       "1343       adoline\n",
       "Name: name, Length: 95025, dtype: object"
      ]
     },
     "execution_count": 58,
     "metadata": {},
     "output_type": "execute_result"
    }
   ],
   "source": [
    "df[\"name\"]"
   ]
  },
  {
   "cell_type": "markdown",
   "id": "cc17712d",
   "metadata": {},
   "source": [
    "# 4) train test split"
   ]
  },
  {
   "cell_type": "code",
   "execution_count": 59,
   "id": "1b6f2846",
   "metadata": {},
   "outputs": [
    {
     "data": {
      "text/plain": [
       "66518"
      ]
     },
     "execution_count": 59,
     "metadata": {},
     "output_type": "execute_result"
    }
   ],
   "source": [
    "split_point = int(round(len(df)*0.7))\n",
    "split_point"
   ]
  },
  {
   "cell_type": "code",
   "execution_count": 60,
   "id": "04f69281",
   "metadata": {},
   "outputs": [],
   "source": [
    "gender = list(df[\"gender\"])"
   ]
  },
  {
   "cell_type": "code",
   "execution_count": 61,
   "id": "75b8c071",
   "metadata": {},
   "outputs": [],
   "source": [
    "training_name = padd_sequences[0:split_point]\n",
    "training_gender = gender[0:split_point]\n",
    "\n",
    "test_name = padd_sequences[split_point:]\n",
    "test_gender = gender[split_point:]"
   ]
  },
  {
   "cell_type": "code",
   "execution_count": 62,
   "id": "40980700",
   "metadata": {},
   "outputs": [],
   "source": [
    "training_gender = np.array(training_gender)\n",
    "test_gender = np.array(test_gender)"
   ]
  },
  {
   "cell_type": "markdown",
   "id": "147580b4",
   "metadata": {},
   "source": [
    "# 5) train model"
   ]
  },
  {
   "cell_type": "code",
   "execution_count": 29,
   "id": "8fb2fadf",
   "metadata": {},
   "outputs": [
    {
     "name": "stdout",
     "output_type": "stream",
     "text": [
      "verbose =  5\n",
      "Epoch 1/30\n",
      "2079/2079 - 1s - loss: 0.5732 - accuracy: 0.6970 - val_loss: 0.5395 - val_accuracy: 0.7222\n",
      "Epoch 2/30\n",
      "2079/2079 - 1s - loss: 0.5416 - accuracy: 0.7229 - val_loss: 0.5373 - val_accuracy: 0.7244\n",
      "Epoch 3/30\n",
      "2079/2079 - 1s - loss: 0.5409 - accuracy: 0.7238 - val_loss: 0.5376 - val_accuracy: 0.7256\n",
      "Epoch 4/30\n",
      "2079/2079 - 1s - loss: 0.5410 - accuracy: 0.7241 - val_loss: 0.5367 - val_accuracy: 0.7254\n",
      "Epoch 5/30\n",
      "2079/2079 - 1s - loss: 0.5405 - accuracy: 0.7246 - val_loss: 0.5370 - val_accuracy: 0.7244\n",
      "Epoch 6/30\n",
      "2079/2079 - 1s - loss: 0.5407 - accuracy: 0.7237 - val_loss: 0.5389 - val_accuracy: 0.7239\n",
      "Epoch 7/30\n",
      "2079/2079 - 1s - loss: 0.5406 - accuracy: 0.7233 - val_loss: 0.5377 - val_accuracy: 0.7221\n",
      "Epoch 8/30\n",
      "2079/2079 - 1s - loss: 0.5407 - accuracy: 0.7241 - val_loss: 0.5371 - val_accuracy: 0.7231\n",
      "Epoch 9/30\n",
      "2079/2079 - 1s - loss: 0.5407 - accuracy: 0.7238 - val_loss: 0.5366 - val_accuracy: 0.7235\n",
      "Epoch 10/30\n",
      "2079/2079 - 1s - loss: 0.5406 - accuracy: 0.7235 - val_loss: 0.5363 - val_accuracy: 0.7248\n",
      "Epoch 11/30\n",
      "2079/2079 - 1s - loss: 0.5405 - accuracy: 0.7235 - val_loss: 0.5365 - val_accuracy: 0.7252\n",
      "Epoch 12/30\n",
      "2079/2079 - 1s - loss: 0.5401 - accuracy: 0.7237 - val_loss: 0.5360 - val_accuracy: 0.7253\n",
      "Epoch 13/30\n",
      "2079/2079 - 1s - loss: 0.5400 - accuracy: 0.7240 - val_loss: 0.5365 - val_accuracy: 0.7256\n",
      "Epoch 14/30\n",
      "2079/2079 - 1s - loss: 0.5398 - accuracy: 0.7233 - val_loss: 0.5362 - val_accuracy: 0.7258\n",
      "Epoch 15/30\n",
      "2079/2079 - 1s - loss: 0.5393 - accuracy: 0.7242 - val_loss: 0.5369 - val_accuracy: 0.7269\n",
      "Epoch 16/30\n",
      "2079/2079 - 1s - loss: 0.5387 - accuracy: 0.7247 - val_loss: 0.5350 - val_accuracy: 0.7252\n",
      "Epoch 17/30\n",
      "2079/2079 - 1s - loss: 0.5378 - accuracy: 0.7235 - val_loss: 0.5365 - val_accuracy: 0.7243\n",
      "Epoch 18/30\n",
      "2079/2079 - 1s - loss: 0.5370 - accuracy: 0.7235 - val_loss: 0.5341 - val_accuracy: 0.7248\n",
      "Epoch 19/30\n",
      "2079/2079 - 1s - loss: 0.5359 - accuracy: 0.7251 - val_loss: 0.5323 - val_accuracy: 0.7262\n",
      "Epoch 20/30\n",
      "2079/2079 - 1s - loss: 0.5344 - accuracy: 0.7264 - val_loss: 0.5322 - val_accuracy: 0.7257\n",
      "Epoch 21/30\n",
      "2079/2079 - 1s - loss: 0.5327 - accuracy: 0.7281 - val_loss: 0.5294 - val_accuracy: 0.7289\n",
      "Epoch 22/30\n",
      "2079/2079 - 1s - loss: 0.5313 - accuracy: 0.7302 - val_loss: 0.5276 - val_accuracy: 0.7317\n",
      "Epoch 23/30\n",
      "2079/2079 - 1s - loss: 0.5298 - accuracy: 0.7322 - val_loss: 0.5275 - val_accuracy: 0.7332\n",
      "Epoch 24/30\n",
      "2079/2079 - 1s - loss: 0.5294 - accuracy: 0.7323 - val_loss: 0.5259 - val_accuracy: 0.7334\n",
      "Epoch 25/30\n",
      "2079/2079 - 1s - loss: 0.5287 - accuracy: 0.7327 - val_loss: 0.5284 - val_accuracy: 0.7319\n",
      "Epoch 26/30\n",
      "2079/2079 - 1s - loss: 0.5284 - accuracy: 0.7335 - val_loss: 0.5267 - val_accuracy: 0.7341\n",
      "Epoch 27/30\n",
      "2079/2079 - 1s - loss: 0.5280 - accuracy: 0.7330 - val_loss: 0.5254 - val_accuracy: 0.7360\n",
      "Epoch 28/30\n",
      "2079/2079 - 1s - loss: 0.5274 - accuracy: 0.7342 - val_loss: 0.5247 - val_accuracy: 0.7362\n",
      "Epoch 29/30\n",
      "2079/2079 - 1s - loss: 0.5272 - accuracy: 0.7340 - val_loss: 0.5241 - val_accuracy: 0.7356\n",
      "Epoch 30/30\n",
      "2079/2079 - 1s - loss: 0.5266 - accuracy: 0.7353 - val_loss: 0.5244 - val_accuracy: 0.7360\n",
      "verbose =  16\n",
      "Epoch 1/30\n",
      "2079/2079 - 1s - loss: 0.5673 - accuracy: 0.6996 - val_loss: 0.5389 - val_accuracy: 0.7243\n",
      "Epoch 2/30\n",
      "2079/2079 - 1s - loss: 0.5418 - accuracy: 0.7231 - val_loss: 0.5368 - val_accuracy: 0.7247\n",
      "Epoch 3/30\n",
      "2079/2079 - 1s - loss: 0.5406 - accuracy: 0.7240 - val_loss: 0.5372 - val_accuracy: 0.7249\n",
      "Epoch 4/30\n",
      "2079/2079 - 1s - loss: 0.5409 - accuracy: 0.7231 - val_loss: 0.5367 - val_accuracy: 0.7242\n",
      "Epoch 5/30\n",
      "2079/2079 - 1s - loss: 0.5404 - accuracy: 0.7235 - val_loss: 0.5370 - val_accuracy: 0.7258\n",
      "Epoch 6/30\n",
      "2079/2079 - 1s - loss: 0.5400 - accuracy: 0.7231 - val_loss: 0.5370 - val_accuracy: 0.7258\n",
      "Epoch 7/30\n",
      "2079/2079 - 1s - loss: 0.5389 - accuracy: 0.7254 - val_loss: 0.5355 - val_accuracy: 0.7237\n",
      "Epoch 8/30\n",
      "2079/2079 - 1s - loss: 0.5366 - accuracy: 0.7243 - val_loss: 0.5345 - val_accuracy: 0.7245\n",
      "Epoch 9/30\n",
      "2079/2079 - 1s - loss: 0.5337 - accuracy: 0.7270 - val_loss: 0.5307 - val_accuracy: 0.7272\n",
      "Epoch 10/30\n",
      "2079/2079 - 1s - loss: 0.5309 - accuracy: 0.7297 - val_loss: 0.5272 - val_accuracy: 0.7324\n",
      "Epoch 11/30\n",
      "2079/2079 - 1s - loss: 0.5288 - accuracy: 0.7318 - val_loss: 0.5267 - val_accuracy: 0.7329\n",
      "Epoch 12/30\n",
      "2079/2079 - 1s - loss: 0.5274 - accuracy: 0.7331 - val_loss: 0.5261 - val_accuracy: 0.7328\n",
      "Epoch 13/30\n",
      "2079/2079 - 1s - loss: 0.5262 - accuracy: 0.7337 - val_loss: 0.5228 - val_accuracy: 0.7367\n",
      "Epoch 14/30\n",
      "2079/2079 - 1s - loss: 0.5247 - accuracy: 0.7355 - val_loss: 0.5228 - val_accuracy: 0.7369\n",
      "Epoch 15/30\n",
      "2079/2079 - 1s - loss: 0.5232 - accuracy: 0.7367 - val_loss: 0.5198 - val_accuracy: 0.7403\n",
      "Epoch 16/30\n",
      "2079/2079 - 1s - loss: 0.5219 - accuracy: 0.7384 - val_loss: 0.5192 - val_accuracy: 0.7408\n",
      "Epoch 17/30\n",
      "2079/2079 - 1s - loss: 0.5213 - accuracy: 0.7380 - val_loss: 0.5184 - val_accuracy: 0.7414\n",
      "Epoch 18/30\n",
      "2079/2079 - 2s - loss: 0.5207 - accuracy: 0.7397 - val_loss: 0.5178 - val_accuracy: 0.7416\n",
      "Epoch 19/30\n",
      "2079/2079 - 1s - loss: 0.5202 - accuracy: 0.7395 - val_loss: 0.5180 - val_accuracy: 0.7424\n",
      "Epoch 20/30\n",
      "2079/2079 - 1s - loss: 0.5195 - accuracy: 0.7392 - val_loss: 0.5169 - val_accuracy: 0.7419\n",
      "Epoch 21/30\n",
      "2079/2079 - 1s - loss: 0.5190 - accuracy: 0.7409 - val_loss: 0.5166 - val_accuracy: 0.7419\n",
      "Epoch 22/30\n",
      "2079/2079 - 1s - loss: 0.5186 - accuracy: 0.7411 - val_loss: 0.5161 - val_accuracy: 0.7427\n",
      "Epoch 23/30\n",
      "2079/2079 - 1s - loss: 0.5178 - accuracy: 0.7417 - val_loss: 0.5155 - val_accuracy: 0.7432\n",
      "Epoch 24/30\n",
      "2079/2079 - 1s - loss: 0.5172 - accuracy: 0.7421 - val_loss: 0.5154 - val_accuracy: 0.7421\n",
      "Epoch 25/30\n",
      "2079/2079 - 1s - loss: 0.5168 - accuracy: 0.7418 - val_loss: 0.5144 - val_accuracy: 0.7426\n",
      "Epoch 26/30\n",
      "2079/2079 - 1s - loss: 0.5161 - accuracy: 0.7432 - val_loss: 0.5147 - val_accuracy: 0.7432\n",
      "Epoch 27/30\n",
      "2079/2079 - 1s - loss: 0.5154 - accuracy: 0.7443 - val_loss: 0.5135 - val_accuracy: 0.7435\n",
      "Epoch 28/30\n",
      "2079/2079 - 1s - loss: 0.5152 - accuracy: 0.7433 - val_loss: 0.5140 - val_accuracy: 0.7408\n",
      "Epoch 29/30\n",
      "2079/2079 - 1s - loss: 0.5149 - accuracy: 0.7426 - val_loss: 0.5136 - val_accuracy: 0.7433\n",
      "Epoch 30/30\n",
      "2079/2079 - 1s - loss: 0.5143 - accuracy: 0.7442 - val_loss: 0.5125 - val_accuracy: 0.7450\n",
      "verbose =  40\n",
      "Epoch 1/30\n",
      "WARNING:tensorflow:Callbacks method `on_test_batch_end` is slow compared to the batch time (batch time: 0.0000s vs `on_test_batch_end` time: 0.0010s). Check your callbacks.\n",
      "2079/2079 - 2s - loss: 0.5595 - accuracy: 0.7058 - val_loss: 0.5372 - val_accuracy: 0.7243\n",
      "Epoch 2/30\n",
      "2079/2079 - 1s - loss: 0.5415 - accuracy: 0.7231 - val_loss: 0.5398 - val_accuracy: 0.7230\n",
      "Epoch 3/30\n",
      "2079/2079 - 2s - loss: 0.5408 - accuracy: 0.7234 - val_loss: 0.5367 - val_accuracy: 0.7246\n",
      "Epoch 4/30\n",
      "2079/2079 - 2s - loss: 0.5405 - accuracy: 0.7228 - val_loss: 0.5357 - val_accuracy: 0.7233\n",
      "Epoch 5/30\n",
      "2079/2079 - 1s - loss: 0.5385 - accuracy: 0.7246 - val_loss: 0.5337 - val_accuracy: 0.7239\n",
      "Epoch 6/30\n",
      "2079/2079 - 2s - loss: 0.5358 - accuracy: 0.7244 - val_loss: 0.5308 - val_accuracy: 0.7275\n",
      "Epoch 7/30\n",
      "2079/2079 - 2s - loss: 0.5313 - accuracy: 0.7286 - val_loss: 0.5300 - val_accuracy: 0.7318\n",
      "Epoch 8/30\n",
      "2079/2079 - 2s - loss: 0.5282 - accuracy: 0.7313 - val_loss: 0.5262 - val_accuracy: 0.7322\n",
      "Epoch 9/30\n",
      "2079/2079 - 2s - loss: 0.5269 - accuracy: 0.7328 - val_loss: 0.5235 - val_accuracy: 0.7357\n",
      "Epoch 10/30\n",
      "2079/2079 - 2s - loss: 0.5255 - accuracy: 0.7354 - val_loss: 0.5280 - val_accuracy: 0.7346\n",
      "Epoch 11/30\n",
      "2079/2079 - 1s - loss: 0.5244 - accuracy: 0.7350 - val_loss: 0.5238 - val_accuracy: 0.7379\n",
      "Epoch 12/30\n",
      "2079/2079 - 1s - loss: 0.5234 - accuracy: 0.7359 - val_loss: 0.5257 - val_accuracy: 0.7358\n",
      "Epoch 13/30\n",
      "2079/2079 - 2s - loss: 0.5229 - accuracy: 0.7364 - val_loss: 0.5200 - val_accuracy: 0.7404\n",
      "Epoch 14/30\n",
      "2079/2079 - 2s - loss: 0.5223 - accuracy: 0.7362 - val_loss: 0.5203 - val_accuracy: 0.7391\n",
      "Epoch 15/30\n",
      "2079/2079 - 2s - loss: 0.5216 - accuracy: 0.7374 - val_loss: 0.5240 - val_accuracy: 0.7349\n",
      "Epoch 16/30\n",
      "2079/2079 - 2s - loss: 0.5215 - accuracy: 0.7383 - val_loss: 0.5209 - val_accuracy: 0.7392\n",
      "Epoch 17/30\n",
      "2079/2079 - 2s - loss: 0.5209 - accuracy: 0.7396 - val_loss: 0.5195 - val_accuracy: 0.7400\n",
      "Epoch 18/30\n",
      "2079/2079 - 1s - loss: 0.5205 - accuracy: 0.7384 - val_loss: 0.5186 - val_accuracy: 0.7412\n"
     ]
    },
    {
     "name": "stdout",
     "output_type": "stream",
     "text": [
      "Epoch 19/30\n",
      "2079/2079 - 1s - loss: 0.5204 - accuracy: 0.7392 - val_loss: 0.5188 - val_accuracy: 0.7409\n",
      "Epoch 20/30\n",
      "2079/2079 - 2s - loss: 0.5196 - accuracy: 0.7400 - val_loss: 0.5186 - val_accuracy: 0.7404\n",
      "Epoch 21/30\n",
      "2079/2079 - 1s - loss: 0.5192 - accuracy: 0.7408 - val_loss: 0.5183 - val_accuracy: 0.7404\n",
      "Epoch 22/30\n",
      "2079/2079 - 2s - loss: 0.5186 - accuracy: 0.7411 - val_loss: 0.5165 - val_accuracy: 0.7421\n",
      "Epoch 23/30\n",
      "2079/2079 - 1s - loss: 0.5179 - accuracy: 0.7412 - val_loss: 0.5167 - val_accuracy: 0.7423\n",
      "Epoch 24/30\n",
      "2079/2079 - 2s - loss: 0.5167 - accuracy: 0.7435 - val_loss: 0.5173 - val_accuracy: 0.7399\n",
      "Epoch 25/30\n",
      "2079/2079 - 1s - loss: 0.5160 - accuracy: 0.7426 - val_loss: 0.5146 - val_accuracy: 0.7441\n",
      "Epoch 26/30\n",
      "2079/2079 - 2s - loss: 0.5147 - accuracy: 0.7441 - val_loss: 0.5143 - val_accuracy: 0.7446\n",
      "Epoch 27/30\n",
      "2079/2079 - 2s - loss: 0.5139 - accuracy: 0.7446 - val_loss: 0.5198 - val_accuracy: 0.7392\n",
      "Epoch 28/30\n",
      "2079/2079 - 1s - loss: 0.5131 - accuracy: 0.7442 - val_loss: 0.5177 - val_accuracy: 0.7403\n",
      "Epoch 29/30\n",
      "2079/2079 - 2s - loss: 0.5120 - accuracy: 0.7449 - val_loss: 0.5117 - val_accuracy: 0.7438\n",
      "Epoch 30/30\n",
      "2079/2079 - 2s - loss: 0.5109 - accuracy: 0.7466 - val_loss: 0.5125 - val_accuracy: 0.7425\n",
      "verbose =  64\n",
      "Epoch 1/30\n",
      "2079/2079 - 2s - loss: 0.5593 - accuracy: 0.7069 - val_loss: 0.5382 - val_accuracy: 0.7250\n",
      "Epoch 2/30\n",
      "2079/2079 - 2s - loss: 0.5416 - accuracy: 0.7225 - val_loss: 0.5368 - val_accuracy: 0.7255\n",
      "Epoch 3/30\n",
      "2079/2079 - 2s - loss: 0.5412 - accuracy: 0.7229 - val_loss: 0.5365 - val_accuracy: 0.7251\n",
      "Epoch 4/30\n",
      "2079/2079 - 2s - loss: 0.5409 - accuracy: 0.7232 - val_loss: 0.5365 - val_accuracy: 0.7238\n",
      "Epoch 5/30\n",
      "2079/2079 - 2s - loss: 0.5390 - accuracy: 0.7242 - val_loss: 0.5390 - val_accuracy: 0.7203\n",
      "Epoch 6/30\n",
      "2079/2079 - 2s - loss: 0.5343 - accuracy: 0.7273 - val_loss: 0.5300 - val_accuracy: 0.7307\n",
      "Epoch 7/30\n",
      "2079/2079 - 2s - loss: 0.5311 - accuracy: 0.7311 - val_loss: 0.5303 - val_accuracy: 0.7304\n",
      "Epoch 8/30\n",
      "2079/2079 - 2s - loss: 0.5284 - accuracy: 0.7330 - val_loss: 0.5247 - val_accuracy: 0.7342\n",
      "Epoch 9/30\n",
      "2079/2079 - 2s - loss: 0.5263 - accuracy: 0.7345 - val_loss: 0.5227 - val_accuracy: 0.7368\n",
      "Epoch 10/30\n",
      "2079/2079 - 2s - loss: 0.5241 - accuracy: 0.7363 - val_loss: 0.5200 - val_accuracy: 0.7375\n",
      "Epoch 11/30\n",
      "2079/2079 - 2s - loss: 0.5219 - accuracy: 0.7366 - val_loss: 0.5190 - val_accuracy: 0.7397\n",
      "Epoch 12/30\n",
      "2079/2079 - 2s - loss: 0.5208 - accuracy: 0.7386 - val_loss: 0.5195 - val_accuracy: 0.7405\n",
      "Epoch 13/30\n",
      "2079/2079 - 2s - loss: 0.5192 - accuracy: 0.7401 - val_loss: 0.5188 - val_accuracy: 0.7418\n",
      "Epoch 14/30\n",
      "2079/2079 - 2s - loss: 0.5186 - accuracy: 0.7415 - val_loss: 0.5156 - val_accuracy: 0.7444\n",
      "Epoch 15/30\n",
      "2079/2079 - 2s - loss: 0.5174 - accuracy: 0.7433 - val_loss: 0.5143 - val_accuracy: 0.7430\n",
      "Epoch 16/30\n",
      "2079/2079 - 2s - loss: 0.5163 - accuracy: 0.7431 - val_loss: 0.5141 - val_accuracy: 0.7454\n",
      "Epoch 17/30\n",
      "2079/2079 - 2s - loss: 0.5154 - accuracy: 0.7443 - val_loss: 0.5129 - val_accuracy: 0.7455\n",
      "Epoch 18/30\n",
      "2079/2079 - 2s - loss: 0.5142 - accuracy: 0.7454 - val_loss: 0.5143 - val_accuracy: 0.7432\n",
      "Epoch 19/30\n",
      "2079/2079 - 2s - loss: 0.5135 - accuracy: 0.7454 - val_loss: 0.5143 - val_accuracy: 0.7417\n",
      "Epoch 20/30\n",
      "2079/2079 - 2s - loss: 0.5123 - accuracy: 0.7454 - val_loss: 0.5100 - val_accuracy: 0.7474\n",
      "Epoch 21/30\n",
      "2079/2079 - 2s - loss: 0.5105 - accuracy: 0.7478 - val_loss: 0.5101 - val_accuracy: 0.7468\n",
      "Epoch 22/30\n",
      "2079/2079 - 2s - loss: 0.5083 - accuracy: 0.7483 - val_loss: 0.5079 - val_accuracy: 0.7491\n",
      "Epoch 23/30\n",
      "2079/2079 - 2s - loss: 0.5071 - accuracy: 0.7478 - val_loss: 0.5061 - val_accuracy: 0.7502\n",
      "Epoch 24/30\n",
      "2079/2079 - 2s - loss: 0.5061 - accuracy: 0.7495 - val_loss: 0.5053 - val_accuracy: 0.7510\n",
      "Epoch 25/30\n",
      "2079/2079 - 2s - loss: 0.5053 - accuracy: 0.7493 - val_loss: 0.5053 - val_accuracy: 0.7499\n",
      "Epoch 26/30\n",
      "2079/2079 - 2s - loss: 0.5046 - accuracy: 0.7500 - val_loss: 0.5052 - val_accuracy: 0.7510\n",
      "Epoch 27/30\n",
      "2079/2079 - 2s - loss: 0.5037 - accuracy: 0.7509 - val_loss: 0.5037 - val_accuracy: 0.7514\n",
      "Epoch 28/30\n",
      "2079/2079 - 2s - loss: 0.5030 - accuracy: 0.7518 - val_loss: 0.5038 - val_accuracy: 0.7515\n",
      "Epoch 29/30\n",
      "2079/2079 - 2s - loss: 0.5023 - accuracy: 0.7518 - val_loss: 0.5031 - val_accuracy: 0.7523\n",
      "Epoch 30/30\n",
      "2079/2079 - 2s - loss: 0.5014 - accuracy: 0.7537 - val_loss: 0.5017 - val_accuracy: 0.7529\n"
     ]
    }
   ],
   "source": [
    "#hyper parameter tuning: input dim\n",
    "\n",
    "dim = [5,16,40,64]\n",
    "for i in dim:\n",
    "    print(\"verbose = \", str(i))\n",
    "    model = tf.keras.Sequential([\n",
    "        tf.keras.layers.Embedding(tokens, i, input_length=padded_len),\n",
    "        tf.keras.layers.GlobalAveragePooling1D(),\n",
    "        tf.keras.layers.Dense(24,activation=\"relu\"),\n",
    "        tf.keras.layers.Dense(1, activation = \"sigmoid\"),\n",
    "#         tf.keras.layers.Dense(1, activation = \"sigmoid\") # addition of this layer result in drop in model performance actually\n",
    "    ])\n",
    "\n",
    "    model.compile(loss=\"binary_crossentropy\", optimizer = \"adam\", metrics=[\"accuracy\"])\n",
    "\n",
    "    nup_epochs = 30\n",
    "    history = model.fit(training_name, training_gender, epochs=nup_epochs,\n",
    "                        validation_data=(test_name,test_gender),verbose=2)"
   ]
  },
  {
   "cell_type": "code",
   "execution_count": 30,
   "id": "12e1603a",
   "metadata": {},
   "outputs": [
    {
     "name": "stdout",
     "output_type": "stream",
     "text": [
      "Model: \"sequential_4\"\n",
      "_________________________________________________________________\n",
      "Layer (type)                 Output Shape              Param #   \n",
      "=================================================================\n",
      "embedding_4 (Embedding)      (None, 20, 64)            1728      \n",
      "_________________________________________________________________\n",
      "global_average_pooling1d_4 ( (None, 64)                0         \n",
      "_________________________________________________________________\n",
      "dense_8 (Dense)              (None, 24)                1560      \n",
      "_________________________________________________________________\n",
      "dense_9 (Dense)              (None, 1)                 25        \n",
      "=================================================================\n",
      "Total params: 3,313\n",
      "Trainable params: 3,313\n",
      "Non-trainable params: 0\n",
      "_________________________________________________________________\n"
     ]
    }
   ],
   "source": [
    "#dimension of 64 perform best with test accuracy of 75.22% on last epoch\n",
    "\n",
    "model = tf.keras.Sequential([\n",
    "    tf.keras.layers.Embedding(tokens, 64, input_length=padded_len),\n",
    "    tf.keras.layers.GlobalAveragePooling1D(),\n",
    "    tf.keras.layers.Dense(24,activation=\"relu\"),\n",
    "    tf.keras.layers.Dense(1, activation = \"sigmoid\")\n",
    "])\n",
    "\n",
    "model.summary()"
   ]
  },
  {
   "cell_type": "code",
   "execution_count": 31,
   "id": "b42f6615",
   "metadata": {},
   "outputs": [
    {
     "name": "stdout",
     "output_type": "stream",
     "text": [
      "Epoch 1/30\n",
      "2079/2079 - 2s - loss: 0.5561 - accuracy: 0.7089 - val_loss: 0.5405 - val_accuracy: 0.7234\n",
      "Epoch 2/30\n",
      "2079/2079 - 2s - loss: 0.5417 - accuracy: 0.7225 - val_loss: 0.5361 - val_accuracy: 0.7251\n",
      "Epoch 3/30\n",
      "2079/2079 - 2s - loss: 0.5408 - accuracy: 0.7235 - val_loss: 0.5372 - val_accuracy: 0.7263\n",
      "Epoch 4/30\n",
      "2079/2079 - 2s - loss: 0.5384 - accuracy: 0.7239 - val_loss: 0.5335 - val_accuracy: 0.7264\n",
      "Epoch 5/30\n",
      "2079/2079 - 2s - loss: 0.5352 - accuracy: 0.7261 - val_loss: 0.5307 - val_accuracy: 0.7281\n",
      "Epoch 6/30\n",
      "2079/2079 - 2s - loss: 0.5324 - accuracy: 0.7298 - val_loss: 0.5271 - val_accuracy: 0.7314\n",
      "Epoch 7/30\n",
      "2079/2079 - 2s - loss: 0.5303 - accuracy: 0.7331 - val_loss: 0.5259 - val_accuracy: 0.7360\n",
      "Epoch 8/30\n",
      "2079/2079 - 2s - loss: 0.5285 - accuracy: 0.7344 - val_loss: 0.5245 - val_accuracy: 0.7369\n",
      "Epoch 9/30\n",
      "2079/2079 - 2s - loss: 0.5263 - accuracy: 0.7361 - val_loss: 0.5204 - val_accuracy: 0.7397\n",
      "Epoch 10/30\n",
      "2079/2079 - 2s - loss: 0.5236 - accuracy: 0.7380 - val_loss: 0.5191 - val_accuracy: 0.7423\n",
      "Epoch 11/30\n",
      "2079/2079 - 2s - loss: 0.5225 - accuracy: 0.7386 - val_loss: 0.5182 - val_accuracy: 0.7407\n",
      "Epoch 12/30\n",
      "2079/2079 - 2s - loss: 0.5211 - accuracy: 0.7389 - val_loss: 0.5178 - val_accuracy: 0.7411\n",
      "Epoch 13/30\n",
      "2079/2079 - 2s - loss: 0.5205 - accuracy: 0.7399 - val_loss: 0.5169 - val_accuracy: 0.7405\n",
      "Epoch 14/30\n",
      "2079/2079 - 2s - loss: 0.5195 - accuracy: 0.7408 - val_loss: 0.5161 - val_accuracy: 0.7426\n",
      "Epoch 15/30\n",
      "2079/2079 - 2s - loss: 0.5185 - accuracy: 0.7406 - val_loss: 0.5166 - val_accuracy: 0.7415\n",
      "Epoch 16/30\n",
      "2079/2079 - 2s - loss: 0.5175 - accuracy: 0.7420 - val_loss: 0.5148 - val_accuracy: 0.7423\n",
      "Epoch 17/30\n",
      "2079/2079 - 2s - loss: 0.5165 - accuracy: 0.7420 - val_loss: 0.5145 - val_accuracy: 0.7427\n",
      "Epoch 18/30\n",
      "2079/2079 - 2s - loss: 0.5155 - accuracy: 0.7436 - val_loss: 0.5126 - val_accuracy: 0.7424\n",
      "Epoch 19/30\n",
      "2079/2079 - 2s - loss: 0.5146 - accuracy: 0.7439 - val_loss: 0.5113 - val_accuracy: 0.7457\n",
      "Epoch 20/30\n",
      "2079/2079 - 2s - loss: 0.5131 - accuracy: 0.7441 - val_loss: 0.5128 - val_accuracy: 0.7436\n",
      "Epoch 21/30\n",
      "2079/2079 - 2s - loss: 0.5118 - accuracy: 0.7455 - val_loss: 0.5102 - val_accuracy: 0.7453\n",
      "Epoch 22/30\n",
      "2079/2079 - 2s - loss: 0.5108 - accuracy: 0.7460 - val_loss: 0.5076 - val_accuracy: 0.7476\n",
      "Epoch 23/30\n",
      "2079/2079 - 2s - loss: 0.5096 - accuracy: 0.7462 - val_loss: 0.5100 - val_accuracy: 0.7467\n",
      "Epoch 24/30\n",
      "2079/2079 - 2s - loss: 0.5089 - accuracy: 0.7467 - val_loss: 0.5067 - val_accuracy: 0.7480\n",
      "Epoch 25/30\n",
      "2079/2079 - 2s - loss: 0.5082 - accuracy: 0.7473 - val_loss: 0.5071 - val_accuracy: 0.7491\n",
      "Epoch 26/30\n",
      "2079/2079 - 2s - loss: 0.5075 - accuracy: 0.7494 - val_loss: 0.5060 - val_accuracy: 0.7481\n",
      "Epoch 27/30\n",
      "2079/2079 - 2s - loss: 0.5070 - accuracy: 0.7474 - val_loss: 0.5080 - val_accuracy: 0.7484\n",
      "Epoch 28/30\n",
      "2079/2079 - 2s - loss: 0.5062 - accuracy: 0.7489 - val_loss: 0.5050 - val_accuracy: 0.7498\n",
      "Epoch 29/30\n",
      "2079/2079 - 2s - loss: 0.5057 - accuracy: 0.7499 - val_loss: 0.5040 - val_accuracy: 0.7515\n",
      "Epoch 30/30\n",
      "2079/2079 - 2s - loss: 0.5051 - accuracy: 0.7494 - val_loss: 0.5054 - val_accuracy: 0.7487\n"
     ]
    },
    {
     "data": {
      "text/plain": [
       "<tensorflow.python.keras.callbacks.History at 0x1fdcf7166a0>"
      ]
     },
     "execution_count": 31,
     "metadata": {},
     "output_type": "execute_result"
    }
   ],
   "source": [
    "model.compile(loss=\"binary_crossentropy\", optimizer = \"adam\", metrics=[\"accuracy\"])\n",
    "\n",
    "nup_epochs = 30\n",
    "model.fit(training_name, training_gender, epochs=nup_epochs,\n",
    "                    validation_data=(test_name,test_gender),verbose=2)"
   ]
  },
  {
   "cell_type": "markdown",
   "id": "be0e82b9",
   "metadata": {},
   "source": [
    "# Export all objects"
   ]
  },
  {
   "cell_type": "code",
   "execution_count": 32,
   "id": "1075e043",
   "metadata": {},
   "outputs": [],
   "source": [
    "model.save(\"NLP_model.h5\")"
   ]
  },
  {
   "cell_type": "code",
   "execution_count": 33,
   "id": "fa3e4034",
   "metadata": {},
   "outputs": [
    {
     "data": {
      "text/plain": [
       "['tokenizer.pkl']"
      ]
     },
     "execution_count": 33,
     "metadata": {},
     "output_type": "execute_result"
    }
   ],
   "source": [
    "joblib.dump(tokenizer, \"tokenizer.pkl\")"
   ]
  }
 ],
 "metadata": {
  "kernelspec": {
   "display_name": "Python 3",
   "language": "python",
   "name": "python3"
  },
  "language_info": {
   "codemirror_mode": {
    "name": "ipython",
    "version": 3
   },
   "file_extension": ".py",
   "mimetype": "text/x-python",
   "name": "python",
   "nbconvert_exporter": "python",
   "pygments_lexer": "ipython3",
   "version": "3.8.8"
  }
 },
 "nbformat": 4,
 "nbformat_minor": 5
}
