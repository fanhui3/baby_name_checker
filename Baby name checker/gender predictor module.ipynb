{
 "cells": [
  {
   "cell_type": "code",
   "execution_count": 1,
   "id": "e6a246bf",
   "metadata": {},
   "outputs": [],
   "source": [
    "import numpy as np\n",
    "import pandas as pd\n",
    "import re\n",
    "import sklearn as sk\n",
    "import tensorflow as tf\n",
    "from tensorflow import keras\n",
    "from tensorflow.keras.preprocessing.text import Tokenizer\n",
    "from tensorflow.keras.preprocessing.sequence import pad_sequences\n",
    "import joblib\n",
    "from tensorflow.keras.models import load_model"
   ]
  },
  {
   "cell_type": "code",
   "execution_count": 2,
   "id": "4a47be7f",
   "metadata": {},
   "outputs": [],
   "source": [
    "## data preprocessing paramter\n",
    "tokens = 27\n",
    "padded_len = 20"
   ]
  },
  {
   "cell_type": "markdown",
   "id": "3ed301dc",
   "metadata": {},
   "source": [
    "# Input name for prediction\n",
    "* names shall be in the form of list in between square brackets. \n",
    "* you can have insert multiple name through a comma separation\n",
    "* e.g name = [\"valerie\"] or name = [\"timmy\", \"tommy\", \"jerry\"]"
   ]
  },
  {
   "cell_type": "code",
   "execution_count": 9,
   "id": "95d80fb7",
   "metadata": {},
   "outputs": [],
   "source": [
    "name = [\"valerie\", \"tommy\", \"jerry\"]"
   ]
  },
  {
   "cell_type": "markdown",
   "id": "cc92cc66",
   "metadata": {},
   "source": [
    "# Import the models"
   ]
  },
  {
   "cell_type": "code",
   "execution_count": 10,
   "id": "08ce0fc4",
   "metadata": {},
   "outputs": [],
   "source": [
    "model = load_model(\"NLP_model.h5\")\n",
    "tokenizer = joblib.load( \"tokenizer.pkl\")"
   ]
  },
  {
   "cell_type": "code",
   "execution_count": 11,
   "id": "60d3ce6a",
   "metadata": {},
   "outputs": [],
   "source": [
    "name_transformed = []\n",
    "for i in range(0,len(name)):\n",
    "    name_transformed.append(name[i])\n",
    "    name_transformed[i] = name_transformed[i].strip()\n",
    "    name_transformed[i] = name_transformed[i].lower()\n",
    "    name_transformed[i] = \" \".join(name_transformed[i])"
   ]
  },
  {
   "cell_type": "code",
   "execution_count": 12,
   "id": "a5317d99",
   "metadata": {},
   "outputs": [],
   "source": [
    "tokened_name = pad_sequences(tokenizer.texts_to_sequences(name_transformed), maxlen=padded_len)"
   ]
  },
  {
   "cell_type": "code",
   "execution_count": 13,
   "id": "5383cc94",
   "metadata": {},
   "outputs": [],
   "source": [
    "prediction = model.predict(tokened_name)"
   ]
  },
  {
   "cell_type": "markdown",
   "id": "952173f9",
   "metadata": {},
   "source": [
    "# Result:"
   ]
  },
  {
   "cell_type": "code",
   "execution_count": 14,
   "id": "2e6bbcb1",
   "metadata": {},
   "outputs": [
    {
     "name": "stdout",
     "output_type": "stream",
     "text": [
      "The name, valerie, is certainly a girl's name\n",
      "The name, tommy, is likely a boy's name\n",
      "The name, jerry, is certainly a boy's name\n"
     ]
    }
   ],
   "source": [
    "for i in range(0,len(prediction)):\n",
    "    if prediction[i] <= 0.25:\n",
    "        print(\"The name, \" + name[i] + \", is certainly a boy's name\")\n",
    "    elif prediction[i] <=0.5:\n",
    "        print(\"The name, \" + name[i] + \", is likely a boy's name\") \n",
    "    elif prediction[i] <=0.75:\n",
    "        print(\"The name, \" + name[i] + \", is likely a girl's name\") \n",
    "    else:\n",
    "        print(\"The name, \" + name[i] + \", is certainly a girl's name\")"
   ]
  },
  {
   "cell_type": "code",
   "execution_count": null,
   "id": "4d2055fa",
   "metadata": {},
   "outputs": [],
   "source": []
  }
 ],
 "metadata": {
  "kernelspec": {
   "display_name": "Python 3",
   "language": "python",
   "name": "python3"
  },
  "language_info": {
   "codemirror_mode": {
    "name": "ipython",
    "version": 3
   },
   "file_extension": ".py",
   "mimetype": "text/x-python",
   "name": "python",
   "nbconvert_exporter": "python",
   "pygments_lexer": "ipython3",
   "version": "3.8.8"
  }
 },
 "nbformat": 4,
 "nbformat_minor": 5
}
